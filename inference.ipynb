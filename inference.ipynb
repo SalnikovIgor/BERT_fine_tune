{
 "cells": [
  {
   "cell_type": "code",
   "execution_count": null,
   "id": "452a41ae",
   "metadata": {},
   "outputs": [],
   "source": [
    "import torch\n",
    "import numpy as np\n",
    "from transformers import BertTokenizer"
   ]
  },
  {
   "cell_type": "code",
   "execution_count": null,
   "id": "0a857287",
   "metadata": {},
   "outputs": [],
   "source": [
    "MODEL = 'bert-base-multilingual-uncased'\n",
    "MODEL_FILE = 'bert_model.pt'\n",
    "text = ''\n",
    "device = torch.device(\"cuda:0\" if torch.cuda.is_available() else \"cpu\")"
   ]
  },
  {
   "cell_type": "code",
   "execution_count": null,
   "id": "08ab8caa",
   "metadata": {},
   "outputs": [],
   "source": [
    "tokenizer = BertTokenizer.from_pretrained(MODEL, do_lower_case=True)"
   ]
  },
  {
   "cell_type": "code",
   "execution_count": null,
   "id": "1d735ced",
   "metadata": {},
   "outputs": [],
   "source": [
    "test_ids = []\n",
    "test_attention_mask = []\n",
    "\n",
    "token = tokenizer.encode_plus(\n",
    "    text,\n",
    "    add_special_tokens=True,\n",
    "    max_length=32,\n",
    "    pad_to_max_length=True,\n",
    "    return_attention_mask=True,\n",
    "    return_tensors='pt'\n",
    ")\n",
    "\n",
    "test_ids.append(token['input_ids'])\n",
    "test_attention_mask.append(token['attention_mask'])\n",
    "test_ids = torch.cat(test_ids, dim=0)\n",
    "test_attention_mask = torch.cat(test_attention_mask, dim=0)\n"
   ]
  },
  {
   "cell_type": "code",
   "execution_count": null,
   "id": "80b53e5d",
   "metadata": {},
   "outputs": [],
   "source": [
    "model = torch.load(MODEL_FILE)\n",
    "model.eval()"
   ]
  },
  {
   "cell_type": "code",
   "execution_count": null,
   "id": "8aebd084",
   "metadata": {},
   "outputs": [],
   "source": [
    "with torch.no_grad():\n",
    "    output = model(test_ids.to(device), token_type_ids=None, attention_mask=test_attention_mask.to(device))\n",
    "\n",
    "prediction = 'Токсичный' if np.argmax(output.logits.cpu().numpy()).flatten().item() == 1 else 'Норм'\n",
    "\n",
    "print('Predicted Class: ', prediction)"
   ]
  },
  {
   "cell_type": "code",
   "execution_count": null,
   "id": "56014e5a",
   "metadata": {},
   "outputs": [],
   "source": []
  }
 ],
 "metadata": {
  "kernelspec": {
   "display_name": "Python 3 (ipykernel)",
   "language": "python",
   "name": "python3"
  },
  "language_info": {
   "codemirror_mode": {
    "name": "ipython",
    "version": 3
   },
   "file_extension": ".py",
   "mimetype": "text/x-python",
   "name": "python",
   "nbconvert_exporter": "python",
   "pygments_lexer": "ipython3",
   "version": "3.8.10"
  }
 },
 "nbformat": 4,
 "nbformat_minor": 5
}
